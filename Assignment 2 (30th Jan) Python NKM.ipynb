{
 "cells": [
  {
   "cell_type": "code",
   "execution_count": null,
   "id": "15fe1b74",
   "metadata": {},
   "outputs": [],
   "source": [
    "#1.write a program to accept percentage from the user and display the grade accorading to the following criteria:\n",
    "\n",
    "percentage = float(input(\"enter your marks \"))\n",
    "if percentage > 90:\n",
    "    print(\"your Grade is A\")\n",
    "elif percentage > 80 and percentage<= 90:\n",
    "    print(\"your Grade is B\")\n",
    "elif percentage >= 60 and percentage <= 80 :\n",
    "    print(\"your Grade is C\")\n",
    "elif percentage >60:\n",
    "    print(\"your Grade is D\")\n",
    "else :\n",
    "    print(\"your Grade id D\")"
   ]
  },
  {
   "cell_type": "code",
   "execution_count": null,
   "id": "fa2f042a",
   "metadata": {},
   "outputs": [],
   "source": [
    "#2.write a program to accept cost price of the bike and display the road tax to paid according to the following criteria:\n",
    "\n",
    "cost_price=int(input(\"Enter cost of the Bike\"))\n",
    "if cost_price>100000:\n",
    "    print(\"your tax=15%\")\n",
    "elif cost_price>50000 and cost_price<=100000:\n",
    "    print(\"your tax=10%\")\n",
    "elif cost_price<=50000:\n",
    "    print(\"your tax=10%\")\n",
    " "
   ]
  },
  {
   "cell_type": "code",
   "execution_count": null,
   "id": "7ddfa50a",
   "metadata": {},
   "outputs": [],
   "source": [
    "#3.Accept any city from the user and display monument of that city:\n",
    "\n",
    "city=input('Enter a city')\n",
    "if city==\"Delhi\":\n",
    "    print(\"Monument of the city RED FORT\")\n",
    "elif city==\"Agra\":\n",
    "    print(\"Monument of the city TAJ MAHAL\")\n",
    "elif city==\"Jaipur\":\n",
    "    print(\"Monument of the city JAI MAHAL\")\n",
    "else:\n",
    "    print(\"Enter a correct name of city\")\n"
   ]
  },
  {
   "cell_type": "code",
   "execution_count": 3,
   "id": "5a71f9e7",
   "metadata": {},
   "outputs": [
    {
     "name": "stdout",
     "output_type": "stream",
     "text": [
      "enter the number10\n"
     ]
    },
    {
     "data": {
      "text/plain": [
       "0"
      ]
     },
     "execution_count": 3,
     "metadata": {},
     "output_type": "execute_result"
    }
   ],
   "source": [
    "#4.check how many times a given number can be divided by 3 before it is less then or equal to 10.\n",
    "\n",
    "n=int(input(\"enter the number\"))\n",
    "l=[]\n",
    "for i in range(11, n):\n",
    "    if i/3==0:\n",
    "        i.append(i)\n",
    "len(l)"
   ]
  },
  {
   "cell_type": "code",
   "execution_count": 4,
   "id": "e1e576b1",
   "metadata": {},
   "outputs": [],
   "source": [
    "#5.way and when to use while loop in python give a detailed descripition with example.\n",
    "ans=\"\"\"\"while loop is used to run a block code utila certain condition is met.\n",
    "A while loop evaluate the comdition.If the condition evalutes to true,the code inside the while loop is executed \"\""
   ]
  },
  {
   "cell_type": "code",
   "execution_count": 5,
   "id": "7f1fa828",
   "metadata": {},
   "outputs": [
    {
     "name": "stdout",
     "output_type": "stream",
     "text": [
      "1\n",
      "2\n",
      "3\n",
      "4\n",
      "5\n",
      "6\n",
      "7\n",
      "8\n",
      "9\n",
      "10\n"
     ]
    }
   ],
   "source": [
    "#Example\n",
    "a=1\n",
    "while a <=10:\n",
    "    print(a)\n",
    "    a=a+1"
   ]
  },
  {
   "cell_type": "code",
   "execution_count": 2,
   "id": "8ce64d2b",
   "metadata": {},
   "outputs": [
    {
     "name": "stdout",
     "output_type": "stream",
     "text": [
      "*\n",
      "\n",
      "**\n",
      "\n",
      "***\n",
      "\n"
     ]
    }
   ],
   "source": [
    "#6.use nested while loop to print 3 different pattern.\n",
    "#Example 1\n",
    "for i in range(1,4):\n",
    "    for j in range(1,i+1):\n",
    "        print(\"*\",end=\"\")\n",
    "    print(\"\\n\")"
   ]
  },
  {
   "cell_type": "code",
   "execution_count": 3,
   "id": "a6500756",
   "metadata": {},
   "outputs": [
    {
     "name": "stdout",
     "output_type": "stream",
     "text": [
      "***\n",
      "\n",
      "**\n",
      "\n",
      "*\n",
      "\n"
     ]
    }
   ],
   "source": [
    "#Example 2\n",
    "for i in range(3,0,-1):\n",
    "    for j in range(1,i+1):\n",
    "        print(\"*\",end=\"\")\n",
    "    print(\"\\n\")"
   ]
  },
  {
   "cell_type": "code",
   "execution_count": 4,
   "id": "9a5d0bf8",
   "metadata": {},
   "outputs": [
    {
     "name": "stdout",
     "output_type": "stream",
     "text": [
      "******"
     ]
    }
   ],
   "source": [
    "#Example 3\n",
    "for i in range(3,0,-1):\n",
    "    for j in range(1,i+1):\n",
    "        print(\"*\",end=\"\")"
   ]
  },
  {
   "cell_type": "code",
   "execution_count": 4,
   "id": "a0759ec3",
   "metadata": {},
   "outputs": [
    {
     "name": "stdout",
     "output_type": "stream",
     "text": [
      "10\n",
      "9\n",
      "8\n",
      "7\n",
      "6\n",
      "5\n",
      "4\n",
      "3\n",
      "2\n",
      "1\n"
     ]
    }
   ],
   "source": [
    "#7.Reverse a while loop to display numbers from 1o to 1.\n",
    "\n",
    "i = 10\n",
    "while i > 0:\n",
    "    print(i)\n",
    "    i = i - 1"
   ]
  },
  {
   "cell_type": "code",
   "execution_count": null,
   "id": "a689deb4",
   "metadata": {},
   "outputs": [],
   "source": [
    "#8.Reverse a while  loop to display number from 10 to 1.\n",
    "\"Q7 and Q8 is same \""
   ]
  }
 ],
 "metadata": {
  "kernelspec": {
   "display_name": "Python 3 (ipykernel)",
   "language": "python",
   "name": "python3"
  },
  "language_info": {
   "codemirror_mode": {
    "name": "ipython",
    "version": 3
   },
   "file_extension": ".py",
   "mimetype": "text/x-python",
   "name": "python",
   "nbconvert_exporter": "python",
   "pygments_lexer": "ipython3",
   "version": "3.10.5"
  }
 },
 "nbformat": 4,
 "nbformat_minor": 5
}
